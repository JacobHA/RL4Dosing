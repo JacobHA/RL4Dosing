{
 "cells": [
  {
   "cell_type": "code",
   "execution_count": 1,
   "metadata": {},
   "outputs": [],
   "source": [
    "from cell_env import CellEnv\n",
    "# Use sb3 env checker:\n",
    "from stable_baselines3.common.env_checker import check_env\n",
    "from stable_baselines3 import DQN\n",
    "\n",
    "from stable_baselines3.common.vec_env import DummyVecEnv\n",
    "from gymnasium.wrappers import TimeLimit\n",
    "from stable_baselines3.common.monitor import Monitor\n",
    "from stable_baselines3.common.callbacks import EvalCallback\n"
   ]
  },
  {
   "cell_type": "code",
   "execution_count": 2,
   "metadata": {},
   "outputs": [],
   "source": [
    "\n",
    "env_args = {\n",
    "    \"max_timesteps\": 200,\n",
    "    \"alpha_mem\": 1.0,\n",
    "    \"dt\": 0.5,\n",
    "    \"frame_stack\": 2,\n",
    "}\n"
   ]
  },
  {
   "cell_type": "code",
   "execution_count": 3,
   "metadata": {},
   "outputs": [],
   "source": [
    "env = CellEnv(**env_args)\n",
    "check_env(env)\n",
    "# use the monitor wrapper to log the results:\n",
    "env = Monitor(env, info_keywords=(\"c\"))\n",
    "eval_env = CellEnv(**env_args)\n",
    "eval_env = Monitor(eval_env, info_keywords=(\"c\"))"
   ]
  },
  {
   "cell_type": "code",
   "execution_count": 4,
   "metadata": {},
   "outputs": [
    {
     "name": "stdout",
     "output_type": "stream",
     "text": [
      "Using cuda device\n",
      "Logging to ./rl-logs/dqn_18\n",
      "{'c': 1086.4190084455197, 'res_fraction': array([0.        , 0.00157254, 0.00472786, ..., 0.57916521, 0.58359159,\n",
      "       0.58799472])}\n",
      "c\n",
      "{'c': 3591.6911758813603, 'res_fraction': array([0.        , 0.00157254, 0.00472786, ..., 0.41678588, 0.42172022,\n",
      "       0.42664903])}\n",
      "c\n",
      "{'c': 3430.000765973453, 'res_fraction': array([0.        , 0.        , 0.        , ..., 0.73334284, 0.73666641,\n",
      "       0.73995957])}\n",
      "c\n",
      "{'c': 4377.321175409317, 'res_fraction': array([0.        , 0.00157254, 0.00472786, ..., 0.37833986, 0.38329585,\n",
      "       0.38825117])}\n",
      "c\n",
      "----------------------------------\n",
      "| rollout/            |          |\n",
      "|    ep_len_mean      | 200      |\n",
      "|    ep_rew_mean      | -361     |\n",
      "|    exploration_rate | 0.962    |\n",
      "| time/               |          |\n",
      "|    episodes         | 4        |\n",
      "|    fps              | 34       |\n",
      "|    time_elapsed     | 23       |\n",
      "|    total_timesteps  | 800      |\n",
      "----------------------------------\n",
      "{'c': 2535.2279064997606, 'res_fraction': array([0.        , 0.        , 0.        , ..., 0.54681492, 0.54193594,\n",
      "       0.53706695])}\n",
      "c\n",
      "{'c': 1190.412734824997, 'res_fraction': array([0.        , 0.00157254, 0.00472786, ..., 0.6001077 , 0.59515919,\n",
      "       0.59021407])}\n",
      "c\n",
      "{'c': 1944.0009323371403, 'res_fraction': array([0.        , 0.        , 0.        , ..., 0.7587057 , 0.7617902 ,\n",
      "       0.76484452])}\n",
      "c\n",
      "{'c': 2188.4200751014664, 'res_fraction': array([0.        , 0.        , 0.        , ..., 0.69493261, 0.69858725,\n",
      "       0.702212  ])}\n",
      "c\n",
      "----------------------------------\n",
      "| rollout/            |          |\n",
      "|    ep_len_mean      | 200      |\n",
      "|    ep_rew_mean      | -291     |\n",
      "|    exploration_rate | 0.924    |\n",
      "| time/               |          |\n",
      "|    episodes         | 8        |\n",
      "|    fps              | 33       |\n",
      "|    time_elapsed     | 47       |\n",
      "|    total_timesteps  | 1600     |\n",
      "| train/              |          |\n",
      "|    learning_rate    | 0.0015   |\n",
      "|    loss             | 0.00326  |\n",
      "|    n_updates        | 298      |\n",
      "----------------------------------\n",
      "{'c': 652.4906890043856, 'res_fraction': array([0.        , 0.00157254, 0.00472786, ..., 0.36383962, 0.35975069,\n",
      "       0.35568915])}\n",
      "c\n",
      "{'c': 950.5195111165663, 'res_fraction': array([0.        , 0.        , 0.        , ..., 0.69091944, 0.69460652,\n",
      "       0.69826381])}\n",
      "c\n"
     ]
    }
   ],
   "source": [
    "\n",
    "eval_callback = EvalCallback(eval_env, best_model_save_path='./rl-models-sde/',\n",
    "                             n_eval_episodes=10,\n",
    "                             log_path='./rl-logs/', eval_freq=5_000,\n",
    "                             deterministic=True, render=False,\n",
    "                             )\n",
    "\n",
    "model = DQN(\"MlpPolicy\", DummyVecEnv([lambda: env]), verbose=4, tensorboard_log=\"./rl-logs/\",\n",
    "            exploration_fraction=0.2,\n",
    "            target_update_interval=2000,\n",
    "            buffer_size=10_000,\n",
    "            gradient_steps=2,\n",
    "            learning_starts=1000,\n",
    "            learning_rate=0.0015,\n",
    "            batch_size=16,\n",
    ")\n",
    "model.learn(total_timesteps=100_000, tb_log_name=\"dqn\",\n",
    "            callback=eval_callback)\n"
   ]
  },
  {
   "cell_type": "code",
   "execution_count": null,
   "metadata": {},
   "outputs": [],
   "source": []
  }
 ],
 "metadata": {
  "kernelspec": {
   "display_name": "rlenv",
   "language": "python",
   "name": "python3"
  },
  "language_info": {
   "codemirror_mode": {
    "name": "ipython",
    "version": 3
   },
   "file_extension": ".py",
   "mimetype": "text/x-python",
   "name": "python",
   "nbconvert_exporter": "python",
   "pygments_lexer": "ipython3",
   "version": "3.9.19"
  }
 },
 "nbformat": 4,
 "nbformat_minor": 2
}
