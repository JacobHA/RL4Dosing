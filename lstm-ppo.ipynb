{
 "cells": [
  {
   "cell_type": "code",
   "execution_count": 1,
   "metadata": {},
   "outputs": [],
   "source": [
    "import torch\n",
    "from lstm import PPO\n",
    "from torch.distributions import Categorical\n",
    "import numpy as np\n",
    "import gymnasium as gym\n",
    "from cell_env import CellEnv"
   ]
  },
  {
   "cell_type": "code",
   "execution_count": 2,
   "metadata": {},
   "outputs": [],
   "source": [
    "\n",
    "env_args = {\n",
    "    \"max_timesteps\": 200,\n",
    "    \"alpha_mem\": 0.7,\n",
    "    \"dt\": 0.5,\n",
    "    \"frame_stack\": 1,\n",
    "}\n",
    "\n",
    "env = CellEnv(**env_args)\n",
    "# use the monitor wrapper to log the results:\n"
   ]
  },
  {
   "cell_type": "code",
   "execution_count": 3,
   "metadata": {},
   "outputs": [
    {
     "ename": "NameError",
     "evalue": "name 'info' is not defined",
     "output_type": "error",
     "traceback": [
      "\u001b[0;31m---------------------------------------------------------------------------\u001b[0m",
      "\u001b[0;31mNameError\u001b[0m                                 Traceback (most recent call last)",
      "Cell \u001b[0;32mIn[3], line 19\u001b[0m\n\u001b[1;32m     17\u001b[0m m \u001b[38;5;241m=\u001b[39m Categorical(prob)\n\u001b[1;32m     18\u001b[0m a \u001b[38;5;241m=\u001b[39m m\u001b[38;5;241m.\u001b[39msample()\u001b[38;5;241m.\u001b[39mitem()\n\u001b[0;32m---> 19\u001b[0m n_cells \u001b[38;5;241m=\u001b[39m \u001b[43minfo\u001b[49m[\u001b[38;5;124m'\u001b[39m\u001b[38;5;124mn_cells\u001b[39m\u001b[38;5;124m'\u001b[39m]\n\u001b[1;32m     21\u001b[0m s_prime, r, terminated, truncated, info \u001b[38;5;241m=\u001b[39m env\u001b[38;5;241m.\u001b[39mstep(a)\n\u001b[1;32m     22\u001b[0m done \u001b[38;5;241m=\u001b[39m terminated \u001b[38;5;129;01mor\u001b[39;00m truncated\n",
      "\u001b[0;31mNameError\u001b[0m: name 'info' is not defined"
     ]
    }
   ],
   "source": [
    "model = PPO()\n",
    "score = 0.0\n",
    "print_interval = 4\n",
    "T_horizon = 20\n",
    "\n",
    "for n_epi in range(10000):\n",
    "    h_out = (torch.zeros([1, 1, 32], dtype=torch.float), torch.zeros([1, 1, 32], dtype=torch.float))\n",
    "    s, _ = env.reset()\n",
    "    done = False\n",
    "    \n",
    "    while not done:\n",
    "        n_cells = 1000\n",
    "        for t in range(T_horizon):\n",
    "            h_in = h_out\n",
    "            prob, h_out = model.pi(torch.from_numpy(s).float(), h_in)\n",
    "            prob = prob.view(-1)\n",
    "            m = Categorical(prob)\n",
    "            a = m.sample().item()\n",
    "\n",
    "            s_prime, r, terminated, truncated, info = env.step(a)\n",
    "            n_cells = info['n_cells']\n",
    "\n",
    "            done = terminated or truncated\n",
    "\n",
    "            model.put_data((s, a, r/100.0, s_prime, prob[a].item(), h_in, h_out, done))\n",
    "            s = s_prime\n",
    "            score += r\n",
    "            if done:\n",
    "                print(n_cells)\n",
    "                break\n",
    "                \n",
    "        model.train_net()\n",
    "\n",
    "    if n_epi%print_interval==0 and n_epi!=0:\n",
    "        print(\"# of episode :{}, avg score : {:.1f}\".format(n_epi, score/print_interval))\n",
    "        score = 0.0\n",
    "\n",
    "env.close()\n"
   ]
  },
  {
   "cell_type": "code",
   "execution_count": null,
   "metadata": {},
   "outputs": [],
   "source": [
    "cells = []\n",
    "done = False\n",
    "\n",
    "env.reset()\n",
    "while not done:\n",
    "    n_cells = 1000\n",
    "    for t in range(T_horizon):\n",
    "        h_in = h_out\n",
    "        prob, h_out = model.pi(torch.from_numpy(s).float(), h_in)\n",
    "        prob = prob.view(-1)\n",
    "        m = Categorical(prob)\n",
    "        a = m.sample().item()\n",
    "        cells.append(info['n_cells'])\n",
    "\n",
    "        s_prime, r, terminated, truncated, info = env.step(a)\n",
    "        done = terminated or truncated\n",
    "\n",
    "        model.put_data((s, a, r/100.0, s_prime, prob[a].item(), h_in, h_out, done))\n",
    "        s = s_prime\n",
    "        score += r\n",
    "        if done:\n",
    "            # print(n_cells)\n",
    "            break\n"
   ]
  },
  {
   "cell_type": "code",
   "execution_count": null,
   "metadata": {},
   "outputs": [
    {
     "data": {
      "text/plain": [
       "[<matplotlib.lines.Line2D at 0x7fb828312d90>]"
      ]
     },
     "execution_count": 23,
     "metadata": {},
     "output_type": "execute_result"
    },
    {
     "data": {
      "image/png": "[encoded data removed]",
      "text/plain": [
       "<Figure size 640x480 with 1 Axes>"
      ]
     },
     "metadata": {},
     "output_type": "display_data"
    }
   ],
   "source": [
    "import matplotlib.pyplot as plt\n",
    "plt.plot(cells)"
   ]
  },
  {
   "cell_type": "code",
   "execution_count": null,
   "metadata": {},
   "outputs": [],
   "source": []
  }
 ],
 "metadata": {
  "kernelspec": {
   "display_name": "rlenv",
   "language": "python",
   "name": "python3"
  },
  "language_info": {
   "codemirror_mode": {
    "name": "ipython",
    "version": 3
   },
   "file_extension": ".py",
   "mimetype": "text/x-python",
   "name": "python",
   "nbconvert_exporter": "python",
   "pygments_lexer": "ipython3",
   "version": "3.9.19"
  }
 },
 "nbformat": 4,
 "nbformat_minor": 2
}
